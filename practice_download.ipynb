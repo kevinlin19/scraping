{
 "cells": [
  {
   "cell_type": "code",
   "execution_count": 1,
   "metadata": {
    "collapsed": true
   },
   "outputs": [],
   "source": [
    "from bs4 import BeautifulSoup\n",
    "import requests"
   ]
  },
  {
   "cell_type": "code",
   "execution_count": 3,
   "metadata": {},
   "outputs": [
    {
     "ename": "TypeError",
     "evalue": "must be str, not list",
     "output_type": "error",
     "traceback": [
      "\u001b[0;31m---------------------------------------------------------------------------\u001b[0m",
      "\u001b[0;31mTypeError\u001b[0m                                 Traceback (most recent call last)",
      "\u001b[0;32m<ipython-input-3-f3fa9dfef670>\u001b[0m in \u001b[0;36m<module>\u001b[0;34m()\u001b[0m\n\u001b[1;32m      1\u001b[0m \u001b[0murl_base\u001b[0m \u001b[0;34m=\u001b[0m \u001b[0;34m'https://shop.campus.org.tw/'\u001b[0m\u001b[0;34m\u001b[0m\u001b[0m\n\u001b[1;32m      2\u001b[0m \u001b[0msub_url\u001b[0m \u001b[0;34m=\u001b[0m \u001b[0;34m[\u001b[0m\u001b[0;34m]\u001b[0m\u001b[0;34m\u001b[0m\u001b[0m\n\u001b[0;32m----> 3\u001b[0;31m \u001b[0mURL\u001b[0m \u001b[0;34m=\u001b[0m \u001b[0murl_base\u001b[0m \u001b[0;34m+\u001b[0m \u001b[0msub_url\u001b[0m\u001b[0;34m\u001b[0m\u001b[0m\n\u001b[0m",
      "\u001b[0;31mTypeError\u001b[0m: must be str, not list"
     ]
    }
   ],
   "source": [
    "url_base = 'https://shop.campus.org.tw/'\n",
    "sub_url = []\n",
    "URL = url_base + sub_url"
   ]
  },
  {
   "cell_type": "code",
   "execution_count": 33,
   "metadata": {},
   "outputs": [
    {
     "name": "stdout",
     "output_type": "stream",
     "text": [
      "newbook tag number :  3\n"
     ]
    },
    {
     "data": {
      "text/plain": [
       "'/Images/thumbs/000537230_01_180_250.jpg'"
      ]
     },
     "execution_count": 33,
     "metadata": {},
     "output_type": "execute_result"
    }
   ],
   "source": [
    "# html = requests.get(url_base).text\n",
    "# # print(html)\n",
    "# soup = BeautifulSoup(html, features='lxml')\n",
    "# new = soup.find_all('ul', {'style' : 'left: 0px; top: 0px;'})\n",
    "# print(\"newbook tag number : \",len(new))\n",
    "# #3\n",
    "# # print(new[1])\n",
    "# url = new[1].find_all('img')[0]\n",
    "# # print(url)\n",
    "# url['src']\n",
    "# # new.find('img')\n",
    "# # href = new.find_all('a')\n",
    "# # print('the number of list : ', len(href))"
   ]
  },
  {
   "cell_type": "code",
   "execution_count": 38,
   "metadata": {},
   "outputs": [
    {
     "name": "stdout",
     "output_type": "stream",
     "text": [
      "saved 000537230_01_180_250.jpg\n",
      "saved 000537223_01_180_250.png\n",
      "saved 000537216_01_180_250.jpg\n",
      "saved 000537209_01_180_250.jpg\n",
      "saved 000537193_01_180_250.jpg\n",
      "saved 000537186_01_180_250.png\n",
      "saved 000537179_01_180_250.jpg\n",
      "saved 000537162_01_180_250.jpg\n",
      "saved 000537155_01_180_250.jpg\n"
     ]
    }
   ],
   "source": [
    "html = requests.get(url_base).text\n",
    "soup = BeautifulSoup(html, features='lxml')\n",
    "new = soup.find_all('ul', {'style' : 'left: 0px; top: 0px;'})\n",
    "url = new[1].find_all('img')\n",
    "# URL = url_base + ul['src']\n",
    "# r = requests.get(URL, stream = True)\n",
    "# print(r)\n",
    "for ul in url:\n",
    "    URL = url_base + ul['src']\n",
    "    r = requests.get(URL, stream = True)\n",
    "    image_name = URL.split('/')[-1]\n",
    "    with open('./image/%s' % image_name, 'wb') as f:\n",
    "        for chunk in r.iter_content(chunk_size = 32):\n",
    "            f.write(chunk)\n",
    "        print('saved %s' % image_name)"
   ]
  },
  {
   "cell_type": "code",
   "execution_count": null,
   "metadata": {
    "collapsed": true
   },
   "outputs": [],
   "source": []
  }
 ],
 "metadata": {
  "kernelspec": {
   "display_name": "Python 3",
   "language": "python",
   "name": "python3"
  },
  "language_info": {
   "codemirror_mode": {
    "name": "ipython",
    "version": 3
   },
   "file_extension": ".py",
   "mimetype": "text/x-python",
   "name": "python",
   "nbconvert_exporter": "python",
   "pygments_lexer": "ipython3",
   "version": "3.6.3"
  }
 },
 "nbformat": 4,
 "nbformat_minor": 2
}
