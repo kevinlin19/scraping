{
 "cells": [
  {
   "cell_type": "markdown",
   "metadata": {},
   "source": [
    "### post\n",
    "1.帳號登錄\n",
    "<br>2.搜索內容\n",
    "<br>3.上傳圖片\n",
    "<br>4.上傳文件\n",
    "<br>5.往伺服器傳數據 等\n",
    "\n",
    "### get \n",
    "1.正常打開網頁\n",
    "<br>2.不傳送數據"
   ]
  },
  {
   "cell_type": "code",
   "execution_count": 4,
   "metadata": {},
   "outputs": [],
   "source": [
    "import requests\n",
    "import webbrowser"
   ]
  },
  {
   "cell_type": "code",
   "execution_count": 24,
   "metadata": {},
   "outputs": [
    {
     "name": "stdout",
     "output_type": "stream",
     "text": [
      "https://www.google.com.tw/webhp?p=%E7%88%AC%E8%9F%B2\n"
     ]
    }
   ],
   "source": [
    "# inp = input('What do you want to search ')\n",
    "param = {'p' : '爬蟲'}\n",
    "r = requests.get(\"https://www.google.com.tw/search\", params = param)\n",
    "print(r.url)\n",
    "# webbrowser.open(r.url)"
   ]
  },
  {
   "cell_type": "code",
   "execution_count": 19,
   "metadata": {},
   "outputs": [
    {
     "data": {
      "text/plain": [
       "'https://www.google.com.tw/webhp?p=fb'"
      ]
     },
     "execution_count": 19,
     "metadata": {},
     "output_type": "execute_result"
    }
   ],
   "source": [
    "r.url"
   ]
  },
  {
   "cell_type": "markdown",
   "metadata": {},
   "source": [
    "--------"
   ]
  },
  {
   "cell_type": "code",
   "execution_count": 25,
   "metadata": {
    "collapsed": true
   },
   "outputs": [],
   "source": [
    "#http://pythonscraping.com/pages/files/form.html"
   ]
  },
  {
   "cell_type": "code",
   "execution_count": 33,
   "metadata": {},
   "outputs": [
    {
     "name": "stdout",
     "output_type": "stream",
     "text": [
      "Hello there, Kevin Lin!\n"
     ]
    }
   ],
   "source": [
    "input_name = {'firstname':'Kevin', 'lastname':'Lin'}\n",
    "r = requests.post('http://pythonscraping.com/pages/files/processing.php',data = input_name)\n",
    "print(r.text)"
   ]
  },
  {
   "cell_type": "markdown",
   "metadata": {},
   "source": [
    "----"
   ]
  },
  {
   "cell_type": "code",
   "execution_count": 43,
   "metadata": {
    "collapsed": true
   },
   "outputs": [],
   "source": [
    "#http://pythonscraping.com/pages/cookies/login.html"
   ]
  },
  {
   "cell_type": "code",
   "execution_count": 44,
   "metadata": {
    "collapsed": true
   },
   "outputs": [],
   "source": [
    "#cookies"
   ]
  },
  {
   "cell_type": "code",
   "execution_count": 42,
   "metadata": {},
   "outputs": [
    {
     "name": "stdout",
     "output_type": "stream",
     "text": [
      "Hey Kevin! Looks like you're still logged into the site!\n"
     ]
    }
   ],
   "source": [
    "data = {'username':'Kevin', 'password':'password'}\n",
    "r = requests.post('http://pythonscraping.com/pages/cookies/welcome.php', data = data)\n",
    "\n",
    "log = requests.get('http://pythonscraping.com/pages/cookies/profile.php', cookies = r.cookies)\n",
    "print(log.text)"
   ]
  },
  {
   "cell_type": "code",
   "execution_count": 47,
   "metadata": {},
   "outputs": [
    {
     "name": "stdout",
     "output_type": "stream",
     "text": [
      "{'loggedin': '1', 'username': 'Kevin'}\n",
      "Hey Kevin! Looks like you're still logged into the site!\n"
     ]
    }
   ],
   "source": [
    "session = requests.Session()\n",
    "r = session.post('http://pythonscraping.com/pages/cookies/welcome.php', data = data)\n",
    "print(r.cookies.get_dict())\n",
    "log = session.get('http://pythonscraping.com/pages/cookies/profile.php')\n",
    "print(log.text)"
   ]
  },
  {
   "cell_type": "code",
   "execution_count": null,
   "metadata": {
    "collapsed": true
   },
   "outputs": [],
   "source": []
  }
 ],
 "metadata": {
  "kernelspec": {
   "display_name": "Python 3",
   "language": "python",
   "name": "python3"
  },
  "language_info": {
   "codemirror_mode": {
    "name": "ipython",
    "version": 3
   },
   "file_extension": ".py",
   "mimetype": "text/x-python",
   "name": "python",
   "nbconvert_exporter": "python",
   "pygments_lexer": "ipython3",
   "version": "3.6.3"
  }
 },
 "nbformat": 4,
 "nbformat_minor": 2
}
